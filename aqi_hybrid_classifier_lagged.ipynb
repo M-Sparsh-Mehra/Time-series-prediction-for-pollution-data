{
 "cells": [
  {
   "cell_type": "markdown",
   "id": "66570dbd",
   "metadata": {},
   "source": [
    "# Libraries"
   ]
  },
  {
   "cell_type": "code",
   "execution_count": 11,
   "id": "e62951af",
   "metadata": {},
   "outputs": [],
   "source": [
    "import numpy as np\n",
    "import matplotlib.pyplot as mp\n",
    "import pandas as pd\n",
    "import seaborn as sns\n",
    "from pyESN import ESN\n",
    "from sklearn.preprocessing import MinMaxScaler\n",
    "from sklearn.model_selection import train_test_split\n",
    "from sklearn.metrics import accuracy_score, classification_report, confusion_matrix\n",
    "from sklearn.multioutput import MultiOutputClassifier\n",
    "from xgboost import XGBClassifier\n",
    "import os\n",
    "import itertools\n",
    "from collections import Counter\n",
    "import mlflow\n",
    "import pickle"
   ]
  },
  {
   "cell_type": "code",
   "execution_count": 2,
   "id": "07185d3b",
   "metadata": {},
   "outputs": [
    {
     "name": "stderr",
     "output_type": "stream",
     "text": [
      "2025/07/17 19:12:06 INFO mlflow.tracking.fluent: Experiment with name 'AQI_Prediction_Hybrid' does not exist. Creating a new experiment.\n"
     ]
    }
   ],
   "source": [
    "mlflow.set_experiment(\"AQI_Prediction_Hybrid\")\n",
    "mlflow.set_tag(\"version\", \"lagged+pollutants\")\n",
    "mlflow.set_tag(\"notes\", \"Using past AQI values + predicted pollutants\")"
   ]
  },
  {
   "cell_type": "markdown",
   "id": "f927d117",
   "metadata": {},
   "source": [
    "# Data prep"
   ]
  },
  {
   "cell_type": "code",
   "execution_count": 20,
   "id": "7dfb0269",
   "metadata": {},
   "outputs": [],
   "source": [
    "data=pd.read_excel(\"/workspaces/Time-series-prediction-for-pollution-data/air_pollution_data.xlsx\")\n",
    "from preprocessing import prepare_xy\n",
    "x, y = prepare_xy(\"Ahmedabad\",use_lags=False, scale=False)"
   ]
  },
  {
   "cell_type": "code",
   "execution_count": 21,
   "id": "686d5c98",
   "metadata": {},
   "outputs": [
    {
     "data": {
      "text/plain": [
       "array([[ 520.71,    2.38,   16.28, ...,   65.96,   72.13,    8.36],\n",
       "       [1682.28,    7.71,   54.84, ...,  120.95,  154.53,   27.36],\n",
       "       [1815.8 ,   16.54,   49.35, ...,  133.47,  172.63,   28.12],\n",
       "       ...,\n",
       "       [ 390.53,    0.  ,   12.34, ...,   18.04,   68.64,    6.46],\n",
       "       [ 307.08,    0.  ,    8.74, ...,   18.49,   73.56,    3.86],\n",
       "       [ 283.72,    0.  ,    6.51, ...,   12.62,   63.86,    2.66]],\n",
       "      shape=(904, 8))"
      ]
     },
     "execution_count": 21,
     "metadata": {},
     "output_type": "execute_result"
    }
   ],
   "source": [
    "x"
   ]
  },
  {
   "cell_type": "code",
   "execution_count": 10,
   "id": "9c20741c",
   "metadata": {},
   "outputs": [],
   "source": [
    "from preprocessing import prepare_xy\n",
    "x_lagged, y_lagged = prepare_xy(\"Ahmedabad\",use_lags=True, scale=False)"
   ]
  },
  {
   "cell_type": "code",
   "execution_count": 6,
   "id": "0e264a2c",
   "metadata": {},
   "outputs": [
    {
     "data": {
      "text/plain": [
       "array([[2.18964e+03, 2.39200e+01, 5.89500e+01, ..., 5.00000e+00,\n",
       "        5.00000e+00, 5.00000e+00],\n",
       "       [3.84522e+03, 5.72200e+01, 1.37090e+02, ..., 5.00000e+00,\n",
       "        5.00000e+00, 5.00000e+00],\n",
       "       [2.88391e+03, 2.79400e+01, 9.87100e+01, ..., 5.00000e+00,\n",
       "        5.00000e+00, 5.00000e+00],\n",
       "       ...,\n",
       "       [3.90530e+02, 0.00000e+00, 1.23400e+01, ..., 3.00000e+00,\n",
       "        3.00000e+00, 3.00000e+00],\n",
       "       [3.07080e+02, 0.00000e+00, 8.74000e+00, ..., 3.00000e+00,\n",
       "        3.00000e+00, 3.00000e+00],\n",
       "       [2.83720e+02, 0.00000e+00, 6.51000e+00, ..., 3.00000e+00,\n",
       "        3.00000e+00, 3.00000e+00]], shape=(900, 12))"
      ]
     },
     "execution_count": 6,
     "metadata": {},
     "output_type": "execute_result"
    }
   ],
   "source": [
    "x_lagged"
   ]
  },
  {
   "cell_type": "code",
   "execution_count": 7,
   "id": "0d551081",
   "metadata": {},
   "outputs": [
    {
     "data": {
      "text/plain": [
       "array([5, 5, 5, 5, 5, 5, 5, 5, 5, 5, 5, 5, 5, 5, 5, 5, 4, 5, 5, 5, 5, 5,\n",
       "       5, 5, 5, 5, 4, 5, 5, 5, 5, 5, 5, 5, 5, 5, 5, 5, 5, 5, 5, 4, 5, 5,\n",
       "       5, 5, 5, 5, 5, 5, 5, 5, 5, 5, 4, 5, 5, 5, 5, 5, 5, 5, 5, 5, 5, 5,\n",
       "       5, 5, 5, 5, 5, 5, 5, 5, 5, 5, 5, 5, 5, 5, 5, 5, 5, 5, 5, 5, 4, 5,\n",
       "       4, 4, 4, 5, 5, 5, 5, 5, 4, 5, 4, 5, 5, 4, 5, 5, 5, 5, 5, 5, 5, 5,\n",
       "       5, 4, 4, 5, 5, 4, 5, 4, 5, 5, 5, 5, 5, 5, 5, 5, 5, 4, 5, 4, 4, 4,\n",
       "       5, 4, 4, 5, 4, 4, 5, 5, 5, 4, 5, 5, 5, 5, 5, 5, 4, 5, 5, 4, 4, 4,\n",
       "       4, 4, 4, 4, 4, 4, 4, 4, 4, 5, 2, 1, 2, 4, 5, 5, 5, 4, 4, 4, 4, 4,\n",
       "       4, 4, 4, 4, 4, 4, 4, 3, 3, 2, 2, 2, 2, 1, 2, 3, 3, 4, 3, 3, 2, 2,\n",
       "       2, 2, 5, 4, 3, 2, 4, 2, 2, 3, 2, 2, 4, 3, 4, 3, 3, 2, 2, 3, 3, 2,\n",
       "       4, 5, 2, 3, 5, 5, 2, 2, 2, 2, 4, 4, 4, 3, 1, 3, 4, 4, 4, 4, 3, 3,\n",
       "       2, 3, 4, 4, 4, 4, 3, 2, 2, 3, 2, 3, 2, 2, 3, 2, 2, 2, 2, 4, 1, 2,\n",
       "       2, 3, 2, 2, 2, 3, 3, 5, 5, 2, 2, 2, 2, 4, 4, 5, 2, 2, 2, 2, 5, 5,\n",
       "       2, 2, 2, 2, 2, 2, 3, 3, 4, 4, 5, 5, 5, 4, 2, 4, 5, 5, 5, 5, 5, 5,\n",
       "       5, 5, 4, 5, 5, 5, 5, 5, 5, 5, 5, 5, 5, 5, 5, 4, 2, 5, 5, 5, 5, 5,\n",
       "       5, 5, 5, 5, 5, 5, 5, 5, 5, 5, 5, 5, 5, 5, 5, 5, 5, 5, 5, 5, 5, 5,\n",
       "       5, 5, 5, 5, 5, 5, 5, 5, 5, 5, 5, 5, 5, 5, 5, 5, 5, 5, 5, 5, 5, 5,\n",
       "       5, 5, 5, 5, 5, 5, 4, 4, 5, 5, 5, 5, 5, 5, 5, 5, 5, 4, 4, 4, 5, 5,\n",
       "       5, 5, 4, 5, 5, 4, 4, 4, 4, 5, 5, 5, 5, 5, 5, 5, 5, 5, 4, 5, 5, 5,\n",
       "       5, 5, 4, 5, 5, 5, 5, 5, 5, 5, 5, 5, 5, 5, 5, 4, 5, 5, 5, 5, 5, 5,\n",
       "       5, 5, 5, 4, 5, 4, 5, 5, 5, 5, 5, 5, 5, 5, 4, 4, 4, 5, 5, 5, 5, 5,\n",
       "       5, 5, 5, 5, 5, 5, 4, 5, 4, 4, 5, 3, 3, 5, 4, 5, 5, 5, 4, 5, 5, 5,\n",
       "       5, 5, 5, 5, 4, 4, 5, 4, 4, 4, 5, 5, 5, 4, 5, 4, 4, 4, 5, 4, 5, 5,\n",
       "       4, 5, 4, 5, 4, 5, 4, 4, 4, 5, 5, 5, 5, 5, 5, 4, 4, 4, 4, 5, 5, 5,\n",
       "       5, 5, 5, 5, 5, 5, 5, 5, 5, 4, 4, 4, 4, 5, 5, 4, 4, 4, 3, 5, 4, 3,\n",
       "       4, 1, 2, 2, 2, 1, 1, 2, 1, 1, 2, 2, 1, 1, 2, 2, 3, 3, 4, 4, 2, 2,\n",
       "       1, 1, 1, 1, 2, 3, 1, 2, 2, 1, 2, 2, 2, 1, 2, 3, 4, 3, 2, 2, 2, 2,\n",
       "       3, 2, 2, 2, 3, 4, 2, 4, 4, 3, 2, 4, 2, 5, 5, 2, 2, 5, 5, 5, 4, 2,\n",
       "       2, 2, 2, 2, 1, 2, 2, 3, 2, 2, 3, 2, 2, 3, 5, 5, 4, 5, 5, 5, 5, 5,\n",
       "       2, 2, 4, 5, 5, 5, 4, 5, 5, 5, 5, 4, 3, 3, 3, 5, 2, 2, 2, 1, 1, 2,\n",
       "       2, 4, 4, 5, 5, 5, 1, 4, 5, 4, 5, 5, 4, 5, 3, 5, 5, 5, 5, 5, 5, 5,\n",
       "       5, 5, 5, 5, 4, 5, 5, 5, 5, 5, 5, 5, 5, 5, 5, 5, 5, 5, 5, 5, 5, 5,\n",
       "       5, 5, 5, 5, 5, 5, 5, 5, 5, 5, 5, 5, 5, 5, 5, 5, 5, 5, 5, 5, 5, 5,\n",
       "       5, 5, 5, 5, 5, 5, 5, 5, 5, 5, 5, 5, 4, 4, 5, 5, 5, 5, 5, 5, 5, 5,\n",
       "       5, 5, 5, 5, 5, 5, 5, 5, 5, 5, 5, 4, 5, 3, 4, 4, 5, 5, 5, 4, 4, 5,\n",
       "       3, 5, 5, 5, 4, 5, 4, 4, 4, 5, 5, 3, 4, 5, 4, 5, 4, 3, 4, 5, 5, 5,\n",
       "       5, 4, 5, 5, 5, 3, 4, 3, 5, 5, 5, 5, 5, 5, 5, 4, 5, 4, 5, 3, 3, 5,\n",
       "       5, 4, 5, 5, 5, 5, 5, 3, 3, 3, 3, 3, 4, 5, 4, 5, 4, 5, 5, 5, 5, 2,\n",
       "       3, 1, 2, 5, 3, 4, 5, 3, 5, 2, 3, 2, 3, 4, 4, 3, 4, 4, 5, 5, 2, 5,\n",
       "       4, 4, 2, 3, 4, 5, 2, 3, 3, 3, 5, 2, 5, 3, 2, 1, 3, 4, 2, 4, 5, 2,\n",
       "       3, 3, 3, 3, 3, 5, 4, 2, 2, 3, 2, 2, 2, 3, 3, 3, 3, 3, 3, 3])"
      ]
     },
     "execution_count": 7,
     "metadata": {},
     "output_type": "execute_result"
    }
   ],
   "source": [
    "y"
   ]
  },
  {
   "cell_type": "code",
   "execution_count": 8,
   "id": "2afcee01",
   "metadata": {},
   "outputs": [],
   "source": [
    "lookback = 5\n",
    "forecast_horizon = 20 # in previous notebook we have looked ahead 20 timestamps\n",
    "steps_needed = 6      # will predict for 6 AQI heads"
   ]
  },
  {
   "cell_type": "code",
   "execution_count": null,
   "id": "8c602016",
   "metadata": {},
   "outputs": [
    {
     "name": "stdout",
     "output_type": "stream",
     "text": [
      "Loaded all ESN models.\n"
     ]
    }
   ],
   "source": []
  },
  {
   "cell_type": "code",
   "execution_count": 19,
   "id": "b5bcfb16",
   "metadata": {},
   "outputs": [
    {
     "data": {
      "text/plain": [
       "<pyESN.ESN at 0x7fc77d717c80>"
      ]
     },
     "execution_count": 19,
     "metadata": {},
     "output_type": "execute_result"
    }
   ],
   "source": [
    "esn_models['co']"
   ]
  }
 ],
 "metadata": {
  "kernelspec": {
   "display_name": ".venv",
   "language": "python",
   "name": "python3"
  },
  "language_info": {
   "codemirror_mode": {
    "name": "ipython",
    "version": 3
   },
   "file_extension": ".py",
   "mimetype": "text/x-python",
   "name": "python",
   "nbconvert_exporter": "python",
   "pygments_lexer": "ipython3",
   "version": "3.12.1"
  }
 },
 "nbformat": 4,
 "nbformat_minor": 5
}
